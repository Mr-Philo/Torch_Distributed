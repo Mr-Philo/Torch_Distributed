{
 "cells": [
  {
   "attachments": {},
   "cell_type": "markdown",
   "metadata": {},
   "source": [
    "## DeepSpeed 加速框架\n",
    "\n",
    "DeepSpeed是微软开源的一款针对大规模模型分布式训练的工具，官方地址:\n",
    "\n",
    "开源库：https://github.com/microsoft/DeepSpeed\n",
    "\n",
    "官方示例：https://github.com/microsoft/DeepSpeedExamples\n",
    "\n",
    "官方文档：https://www.deepspeed.ai/getting-started/\n",
    "\n",
    "接下来我们依据教程和示例，将DeepSpeed应用在cifar10模型训练的代码上"
   ]
  }
 ],
 "metadata": {
  "language_info": {
   "name": "python"
  },
  "orig_nbformat": 4
 },
 "nbformat": 4,
 "nbformat_minor": 2
}
